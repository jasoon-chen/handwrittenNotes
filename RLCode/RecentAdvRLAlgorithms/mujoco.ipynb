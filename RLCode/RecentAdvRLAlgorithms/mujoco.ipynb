{
 "cells": [
  {
   "cell_type": "markdown",
   "metadata": {},
   "source": [
    "## Mujoco Environment Testing\n",
    "\n",
    "This file has no specific algorithm, it is merely a test file to run future RL algorithms on an Mujoco Environment."
   ]
  },
  {
   "cell_type": "code",
   "execution_count": 15,
   "metadata": {},
   "outputs": [
    {
     "data": {
      "text/html": [
       "<table class=\"show_images\" style=\"border-spacing:0px;\"><tr><td style=\"padding:1px;\"><img width=\"320\" height=\"240\" style=\"image-rendering:auto; object-fit:cover;\" src=\"data:image/png;base64,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\"/></td></tr></table>"
      ],
      "text/plain": [
       "<IPython.core.display.HTML object>"
      ]
     },
     "metadata": {},
     "output_type": "display_data"
    }
   ],
   "source": [
    "import mujoco\n",
    "import mediapy as media\n",
    "\n",
    "xml = \"\"\"\n",
    "<mujoco>\n",
    "  <worldbody>\n",
    "    <light name=\"top\" pos=\"0 0 1\"/>\n",
    "    <geom name=\"red_box\" type=\"box\" size=\".2 .2 .2\" rgba=\"1 0 0 1\"/>\n",
    "    <geom name=\"green_sphere\" pos=\".2 .2 .2\" size=\".1\" rgba=\"0 1 0 1\"/>\n",
    "  </worldbody>\n",
    "</mujoco>\n",
    "\"\"\"\n",
    "model = mujoco.MjModel.from_xml_string(xml)\n",
    "data = mujoco.MjData(model)\n",
    "\n",
    "with mujoco.Renderer(model) as renderer:\n",
    "  mujoco.mj_forward(model, data)\n",
    "  renderer.update_scene(data)\n",
    "\n",
    "  media.show_image(renderer.render())"
   ]
  }
 ],
 "metadata": {
  "kernelspec": {
   "display_name": "mujoco",
   "language": "python",
   "name": "python3"
  },
  "language_info": {
   "codemirror_mode": {
    "name": "ipython",
    "version": 3
   },
   "file_extension": ".py",
   "mimetype": "text/x-python",
   "name": "python",
   "nbconvert_exporter": "python",
   "pygments_lexer": "ipython3",
   "version": "3.9.19"
  }
 },
 "nbformat": 4,
 "nbformat_minor": 2
}
