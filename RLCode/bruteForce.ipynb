{
 "cells": [
  {
   "cell_type": "code",
   "execution_count": 4,
   "metadata": {},
   "outputs": [],
   "source": [
    "import gym\n",
    "import numpy as np\n",
    "\n",
    "custom_map3x3 = [\n",
    "    'SFF',\n",
    "    'FFF',\n",
    "    'FMG',\n",
    "]\n",
    "\n",
    "env = gym.make(\"FrozenLake-v1\", desc=custom_map3x3)\n",
    "\n",
    "n_states = env.observation_space.n \n",
    "n_actions = env.action_space.n \n",
    "\n",
    "r = np.zeros(n_states)\n",
    "r[-1] = 1\n",
    "\n",
    "gamma = 0.8\n",
    "\n"
   ]
  }
 ],
 "metadata": {
  "kernelspec": {
   "display_name": "rl",
   "language": "python",
   "name": "python3"
  },
  "language_info": {
   "codemirror_mode": {
    "name": "ipython",
    "version": 3
   },
   "file_extension": ".py",
   "mimetype": "text/x-python",
   "name": "python",
   "nbconvert_exporter": "python",
   "pygments_lexer": "ipython3",
   "version": "3.9.19"
  }
 },
 "nbformat": 4,
 "nbformat_minor": 2
}
