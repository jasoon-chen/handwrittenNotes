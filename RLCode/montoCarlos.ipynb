{
 "cells": [
  {
   "cell_type": "markdown",
   "metadata": {},
   "source": [
    "# Monte-Carlo Method RL on Gym FrozenLake\n"
   ]
  },
  {
   "cell_type": "code",
   "execution_count": 24,
   "metadata": {},
   "outputs": [
    {
     "ename": "IndexError",
     "evalue": "only integers, slices (`:`), ellipsis (`...`), numpy.newaxis (`None`) and integer or boolean arrays are valid indices",
     "output_type": "error",
     "traceback": [
      "\u001b[0;31m---------------------------------------------------------------------------\u001b[0m",
      "\u001b[0;31mIndexError\u001b[0m                                Traceback (most recent call last)",
      "Cell \u001b[0;32mIn[24], line 39\u001b[0m\n\u001b[1;32m     36\u001b[0m rewardList\u001b[38;5;241m.\u001b[39mappend(episodeReward)\n\u001b[1;32m     38\u001b[0m \u001b[38;5;28;01mfor\u001b[39;00m (state, action) \u001b[38;5;129;01min\u001b[39;00m y_list:\n\u001b[0;32m---> 39\u001b[0m     \u001b[43mnewQ\u001b[49m\u001b[43m[\u001b[49m\u001b[43mstate\u001b[49m\u001b[43m]\u001b[49m[action] \u001b[38;5;241m+\u001b[39m\u001b[38;5;241m=\u001b[39m \u001b[38;5;241m1.0\u001b[39m\n\u001b[1;32m     40\u001b[0m     learningRate \u001b[38;5;241m=\u001b[39m \u001b[38;5;241m1.0\u001b[39m \u001b[38;5;241m/\u001b[39m newQ[state, action]\n\u001b[1;32m     41\u001b[0m     Q[state, action] \u001b[38;5;241m+\u001b[39m\u001b[38;5;241m=\u001b[39m learningRate \u001b[38;5;241m*\u001b[39m (score \u001b[38;5;241m-\u001b[39m Q(state,action))\n",
      "\u001b[0;31mIndexError\u001b[0m: only integers, slices (`:`), ellipsis (`...`), numpy.newaxis (`None`) and integer or boolean arrays are valid indices"
     ]
    }
   ],
   "source": [
    "import gym\n",
    "import numpy as np\n",
    "\n",
    "env = gym.make(\"FrozenLake-v1\", map_name=\"8x8\", is_slippery=\"False\")\n",
    "\n",
    "numEpisodes = 10000\n",
    "gamma = 0.99\n",
    "nA = env.action_space.n \n",
    "nS = env.observation_space.n \n",
    "\n",
    "policy = np.zeros(nS)\n",
    "Q = np.zeros((nS, nA))\n",
    "returnSums = np.zeros((nS, nA))\n",
    "returnCount = np.zeros((nS, nA))\n",
    "\n",
    "def generateEpisode(policy, env):\n",
    "    episode = []\n",
    "    state = env.reset()\n",
    "    while True:\n",
    "        action = policy[state]\n",
    "        nextState, reward, done, _, info = env.step(action)\n",
    "        episode.append((state, action, reward))\n",
    "        if done:\n",
    "            break\n",
    "        state = nextState\n",
    "    return episode\n",
    "\n",
    "def updatePolicy(episode, Q, returnSums, returnCount, policy):\n",
    "    G = 0\n",
    "    for t in reversed(range(len(episode))):\n",
    "        state, action, reward = episode\n",
    "\n",
    "for i_episode in range(numEpisodes):\n",
    "    episode = generateEpisode(policy, env)\n",
    "    policy, Q, returnSums, returnCount = updatePolicy(episode, Q, returnSums, returnCount, policy)"
   ]
  }
 ],
 "metadata": {
  "kernelspec": {
   "display_name": "base",
   "language": "python",
   "name": "python3"
  },
  "language_info": {
   "codemirror_mode": {
    "name": "ipython",
    "version": 3
   },
   "file_extension": ".py",
   "mimetype": "text/x-python",
   "name": "python",
   "nbconvert_exporter": "python",
   "pygments_lexer": "ipython3",
   "version": "3.9.19"
  }
 },
 "nbformat": 4,
 "nbformat_minor": 2
}
